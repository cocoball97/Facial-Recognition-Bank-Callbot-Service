{
 "cells": [
  {
   "cell_type": "markdown",
   "metadata": {
    "id": "1vJTVVZQ9sAP"
   },
   "source": [
    "# 1. Setup"
   ]
  },
  {
   "cell_type": "markdown",
   "metadata": {
    "id": "q6SmYj8D9sAR"
   },
   "source": [
    "## 1.1 Install Dependencies"
   ]
  },
  {
   "cell_type": "code",
   "execution_count": 1,
   "metadata": {},
   "outputs": [
    {
     "name": "stdout",
     "output_type": "stream",
     "text": [
      "^C\n"
     ]
    }
   ],
   "source": [
    "# !pip install tensorflow==2.10.0 tensorflow-gpu==2.10.0 opencv-python matplotlib"
   ]
  },
  {
   "cell_type": "markdown",
   "metadata": {
    "id": "9UaEtSN-9sAS"
   },
   "source": [
    "## 1.2 Import Dependencies"
   ]
  },
  {
   "cell_type": "code",
   "execution_count": 1,
   "metadata": {
    "id": "KKGiU5WS9sAS"
   },
   "outputs": [],
   "source": [
    "# Import standard dependencies\n",
    "import cv2\n",
    "import os\n",
    "import random\n",
    "import numpy as np\n",
    "from matplotlib import pyplot as plt"
   ]
  },
  {
   "cell_type": "code",
   "execution_count": 2,
   "metadata": {
    "id": "x-V9TDj99sAS"
   },
   "outputs": [],
   "source": [
    "# Import tensorflow dependencies - Functional API\n",
    "from tensorflow.keras.models import Model\n",
    "from tensorflow.keras.layers import Layer, Conv2D, Dense, MaxPooling2D, Input, Flatten\n",
    "import tensorflow as tf"
   ]
  },
  {
   "cell_type": "markdown",
   "metadata": {
    "id": "k3mPDpu79sAT"
   },
   "source": [
    "## 1.3 Set GPU Growth"
   ]
  },
  {
   "cell_type": "code",
   "execution_count": 3,
   "metadata": {
    "id": "v3JTCrWi9sAT"
   },
   "outputs": [],
   "source": [
    "# Avoid OOM errors by setting GPU Memory Consumption Growth\n",
    "gpus = tf.config.experimental.list_physical_devices('GPU')\n",
    "for gpu in gpus: \n",
    "    tf.config.experimental.set_memory_growth(gpu, True)"
   ]
  },
  {
   "cell_type": "code",
   "execution_count": 4,
   "metadata": {},
   "outputs": [
    {
     "data": {
      "text/plain": [
       "1"
      ]
     },
     "execution_count": 4,
     "metadata": {},
     "output_type": "execute_result"
    }
   ],
   "source": [
    "len(gpus) "
   ]
  },
  {
   "cell_type": "markdown",
   "metadata": {
    "id": "ncwr2HVO9sAT"
   },
   "source": [
    "## 1.4 Create Folder Structures"
   ]
  },
  {
   "cell_type": "code",
   "execution_count": 5,
   "metadata": {
    "id": "XKJCUrJY9sAT"
   },
   "outputs": [],
   "source": [
    "# Setup paths\n",
    "POS_PATH = os.path.join('data', 'positive')\n",
    "NEG_PATH = os.path.join('data', 'negative')\n",
    "ANC_PATH = os.path.join('data', 'anchor') "
   ]
  },
  {
   "cell_type": "code",
   "execution_count": 6,
   "metadata": {
    "id": "P8S6_9ht9sAT"
   },
   "outputs": [],
   "source": [
    "# Make the directories\n",
    "os.makedirs(POS_PATH)\n",
    "# os.makedirs(NEG_PATH)\n",
    "os.makedirs(ANC_PATH)"
   ]
  },
  {
   "cell_type": "markdown",
   "metadata": {
    "id": "v4YhhzP59sAT"
   },
   "source": [
    "# 2. Collect Positives and Anchors"
   ]
  },
  {
   "cell_type": "markdown",
   "metadata": {
    "id": "l-D3-Nnh9sAU"
   },
   "source": [
    "## 2.1 Untar Labelled Faces in the Wild Dataset"
   ]
  },
  {
   "cell_type": "code",
   "execution_count": null,
   "metadata": {
    "executionInfo": {
     "elapsed": 8777,
     "status": "ok",
     "timestamp": 1680917738797,
     "user": {
      "displayName": "Bobin Kim",
      "userId": "15546628042551704372"
     },
     "user_tz": -540
    },
    "id": "hvg6VN9R9sAU"
   },
   "outputs": [],
   "source": [
    "# Uncompress Tar GZ Labelled Faces in the Wild Dataset\n",
    "# !tar -xf lfw.tgz"
   ]
  },
  {
   "cell_type": "markdown",
   "metadata": {
    "id": "3PcosEZo9sAU"
   },
   "source": [
    "## 2.2 Collect Positive and Anchor Classes"
   ]
  },
  {
   "cell_type": "code",
   "execution_count": 7,
   "metadata": {
    "executionInfo": {
     "elapsed": 270,
     "status": "ok",
     "timestamp": 1680917771755,
     "user": {
      "displayName": "Bobin Kim",
      "userId": "15546628042551704372"
     },
     "user_tz": -540
    },
    "id": "-er_3Q3o9sAU"
   },
   "outputs": [],
   "source": [
    "# Import uuid library to generate unique image names\n",
    "import uuid"
   ]
  },
  {
   "cell_type": "code",
   "execution_count": 8,
   "metadata": {
    "colab": {
     "base_uri": "https://localhost:8080/",
     "height": 36
    },
    "executionInfo": {
     "elapsed": 268,
     "status": "ok",
     "timestamp": 1680917780265,
     "user": {
      "displayName": "Bobin Kim",
      "userId": "15546628042551704372"
     },
     "user_tz": -540
    },
    "id": "bvcJIUB69sAU",
    "outputId": "6ef3634b-1f62-48cf-8646-cc3bb07a2149"
   },
   "outputs": [
    {
     "data": {
      "text/plain": [
       "'data\\\\anchor\\\\e7b644f9-1551-11ee-a306-58112281acc6.jpg'"
      ]
     },
     "execution_count": 8,
     "metadata": {},
     "output_type": "execute_result"
    }
   ],
   "source": [
    "os.path.join(ANC_PATH, '{}.jpg'.format(uuid.uuid1()))"
   ]
  },
  {
   "cell_type": "code",
   "execution_count": 9,
   "metadata": {},
   "outputs": [],
   "source": [
    "import cv2\n",
    "import os\n",
    "import uuid\n",
    "\n",
    "# Load the pre-trained face detector model\n",
    "face_cascade = cv2.CascadeClassifier(cv2.data.haarcascades + 'haarcascade_frontalface_default.xml')\n",
    "\n",
    "# Establish a connection to the webcam\n",
    "cap = cv2.VideoCapture(0)\n",
    "\n",
    "# Set the paths to store anchor and positive images\n",
    "ANC_PATH = os.path.join('data', 'anchor')  # Update with the desired anchor images path\n",
    "POS_PATH = os.path.join('data', 'positive')  # Update with the desired positive images path\n",
    "\n",
    "while cap.isOpened():\n",
    "    ret, frame = cap.read()\n",
    "\n",
    "    # Detect faces in the frame\n",
    "    gray = cv2.cvtColor(frame, cv2.COLOR_BGR2GRAY)\n",
    "    faces = face_cascade.detectMultiScale(gray, scaleFactor=1.1, minNeighbors=5, minSize=(30, 30))\n",
    "\n",
    "    if len(faces) > 0:  # If faces are detected\n",
    "        # Take the first detected face\n",
    "        (x, y, w, h) = faces[0]\n",
    "\n",
    "        # Cut down frame to the detected face region\n",
    "        face_image = frame[y:y + h, x:x + w]\n",
    "\n",
    "        # Resize the face image to 250x250 pixels\n",
    "        resized_face_image = cv2.resize(face_image, (250, 250))\n",
    "\n",
    "        # Collect anchors\n",
    "        if cv2.waitKey(1) == ord('a'):\n",
    "            # Create the unique file path\n",
    "            imgname = os.path.join(ANC_PATH, '{}.jpg'.format(uuid.uuid1()))\n",
    "            # Write out anchor image\n",
    "            cv2.imwrite(imgname, resized_face_image)\n",
    "\n",
    "        # Collect positives\n",
    "        if cv2.waitKey(1) == ord('p'):\n",
    "            # Create the unique file path\n",
    "            imgname = os.path.join(POS_PATH, '{}.jpg'.format(uuid.uuid1()))\n",
    "            # Write out positive image\n",
    "            cv2.imwrite(imgname, resized_face_image)\n",
    "\n",
    "        # Show the face image\n",
    "        cv2.imshow('Face Image', resized_face_image)\n",
    "    else:\n",
    "        # Show the original frame if no faces are detected\n",
    "        cv2.imshow('Image Collection', frame)\n",
    "\n",
    "    # Breaking gracefully\n",
    "    if cv2.waitKey(1) == ord('q'):\n",
    "        break\n",
    "\n",
    "# Release the webcam\n",
    "cap.release()\n",
    "# Close the image show frame\n",
    "cv2.destroyAllWindows()\n",
    "\n"
   ]
  },
  {
   "cell_type": "markdown",
   "metadata": {
    "id": "1-WebNk69sAW"
   },
   "source": [
    "# 3. Load and Preprocess Images"
   ]
  },
  {
   "cell_type": "markdown",
   "metadata": {
    "id": "AiNMp8Ca9sAW"
   },
   "source": [
    "## 3.1 Get Image Directories"
   ]
  },
  {
   "cell_type": "code",
   "execution_count": 10,
   "metadata": {},
   "outputs": [],
   "source": [
    "anchor = tf.data.Dataset.list_files(os.path.join(ANC_PATH, '*.jpg')).take(700)\n",
    "positive = tf.data.Dataset.list_files(os.path.join(POS_PATH, '*.jpg')).take(700)\n",
    "negative = tf.data.Dataset.list_files(os.path.join(NEG_PATH, '*.jpg')).take(700)"
   ]
  },
  {
   "cell_type": "code",
   "execution_count": 11,
   "metadata": {
    "scrolled": true
   },
   "outputs": [
    {
     "data": {
      "text/plain": [
       "'data\\\\anchor/*.jpg'"
      ]
     },
     "execution_count": 11,
     "metadata": {},
     "output_type": "execute_result"
    }
   ],
   "source": [
    "ANC_PATH+'/*.jpg'"
   ]
  },
  {
   "cell_type": "code",
   "execution_count": 13,
   "metadata": {
    "id": "tWNhDUSi9sAW"
   },
   "outputs": [],
   "source": [
    "dir_test = anchor.as_numpy_iterator()"
   ]
  },
  {
   "cell_type": "code",
   "execution_count": 14,
   "metadata": {},
   "outputs": [
    {
     "data": {
      "text/plain": [
       "b'data\\\\anchor\\\\4e8e329c-1552-11ee-993e-58112281acc6.jpg'"
      ]
     },
     "execution_count": 14,
     "metadata": {},
     "output_type": "execute_result"
    }
   ],
   "source": [
    "dir_test.next()"
   ]
  },
  {
   "cell_type": "markdown",
   "metadata": {
    "id": "7COrbnzQ9sAW"
   },
   "source": [
    "## 3.2 Preprocessing - Scale and Resize"
   ]
  },
  {
   "cell_type": "code",
   "execution_count": 15,
   "metadata": {
    "id": "jgW5KzPQ9sAX"
   },
   "outputs": [],
   "source": [
    "def preprocess(file_path):\n",
    "    \n",
    "    # Read in image from file path\n",
    "    byte_img = tf.io.read_file(file_path, 'rb')\n",
    "    # Load in the image \n",
    "    img = tf.io.decode_jpeg(byte_img)\n",
    "    \n",
    "    # Preprocessing steps - resizing the image to be 100x100x3\n",
    "    img = tf.image.resize(img, (100,100))\n",
    "    # Scale image to be between 0 and 1 \n",
    "    img = img / 255.0\n",
    "\n",
    "    # Return image\n",
    "    return img"
   ]
  },
  {
   "cell_type": "code",
   "execution_count": 16,
   "metadata": {
    "id": "znvwYbGi9sAX",
    "scrolled": true,
    "tags": []
   },
   "outputs": [],
   "source": [
    "img = preprocess('data/anchor/5fb412a2-1552-11ee-a451-58112281acc6.jpg')"
   ]
  },
  {
   "cell_type": "code",
   "execution_count": 17,
   "metadata": {
    "id": "K3WAqUIt9sAX",
    "outputId": "361209a3-423e-455b-839f-ac726126e4e0"
   },
   "outputs": [
    {
     "data": {
      "text/plain": [
       "1.0"
      ]
     },
     "execution_count": 17,
     "metadata": {},
     "output_type": "execute_result"
    }
   ],
   "source": [
    "img.numpy().max() "
   ]
  },
  {
   "cell_type": "code",
   "execution_count": null,
   "metadata": {},
   "outputs": [],
   "source": [
    "plt.imshow(img)"
   ]
  },
  {
   "cell_type": "code",
   "execution_count": 20,
   "metadata": {
    "id": "9PVyqSII9sAX",
    "outputId": "4ec99f40-1736-4508-b7c0-716885cf9d9e"
   },
   "outputs": [],
   "source": [
    "# dataset.map(preprocess)"
   ]
  },
  {
   "cell_type": "markdown",
   "metadata": {
    "id": "cdXnKcMD9sAX"
   },
   "source": [
    "## 3.3 Create Labelled Dataset"
   ]
  },
  {
   "cell_type": "code",
   "execution_count": 19,
   "metadata": {
    "id": "2Vf5NEAw9sAX"
   },
   "outputs": [],
   "source": [
    "positives = tf.data.Dataset.zip((anchor, positive, tf.data.Dataset.from_tensor_slices(tf.ones(len(anchor)))))\n",
    "negatives = tf.data.Dataset.zip((anchor, negative, tf.data.Dataset.from_tensor_slices(tf.zeros(len(anchor)))))\n",
    "data = positives.concatenate(negatives)"
   ]
  },
  {
   "cell_type": "code",
   "execution_count": 20,
   "metadata": {
    "id": "bIRMxfNj9sAX"
   },
   "outputs": [],
   "source": [
    "samples = data.as_numpy_iterator()"
   ]
  },
  {
   "cell_type": "code",
   "execution_count": 21,
   "metadata": {
    "id": "dLAewebP9sAX"
   },
   "outputs": [
    {
     "data": {
      "text/plain": [
       "(b'data\\\\anchor\\\\3e179117-1552-11ee-a26d-58112281acc6.jpg',\n",
       " b'data\\\\positive\\\\514edd91-1552-11ee-8acb-58112281acc6.jpg',\n",
       " 1.0)"
      ]
     },
     "execution_count": 21,
     "metadata": {},
     "output_type": "execute_result"
    }
   ],
   "source": [
    "exampple = samples.next()\n",
    "exampple"
   ]
  },
  {
   "cell_type": "markdown",
   "metadata": {
    "id": "eJSFR8ib9sAY"
   },
   "source": [
    "## 3.4 Build Train and Test Partition"
   ]
  },
  {
   "cell_type": "code",
   "execution_count": 22,
   "metadata": {
    "id": "gjNajrBK9sAY"
   },
   "outputs": [],
   "source": [
    "def preprocess_twin(input_img, validation_img, label):\n",
    "    return(preprocess(input_img), preprocess(validation_img), label)"
   ]
  },
  {
   "cell_type": "code",
   "execution_count": 23,
   "metadata": {
    "id": "0kKBQaaE9sAY"
   },
   "outputs": [],
   "source": [
    "res = preprocess_twin(*exampple)"
   ]
  },
  {
   "cell_type": "code",
   "execution_count": null,
   "metadata": {},
   "outputs": [],
   "source": [
    "plt.imshow(res[1])   #[0]: anchor [1]:positive"
   ]
  },
  {
   "cell_type": "code",
   "execution_count": null,
   "metadata": {
    "id": "qTTVMJo29sAY",
    "outputId": "ab380a46-89fa-4252-d417-3eaea0f9d2dd"
   },
   "outputs": [],
   "source": [
    "plt.imshow(res[1])"
   ]
  },
  {
   "cell_type": "code",
   "execution_count": 29,
   "metadata": {
    "id": "ZY-cEV5P9sAY",
    "outputId": "94647f3d-50ed-4408-9d2a-5199bbf745be"
   },
   "outputs": [
    {
     "data": {
      "text/plain": [
       "1.0"
      ]
     },
     "execution_count": 29,
     "metadata": {},
     "output_type": "execute_result"
    }
   ],
   "source": [
    "res[2]"
   ]
  },
  {
   "cell_type": "code",
   "execution_count": 26,
   "metadata": {
    "id": "As7fTv4R9sAY"
   },
   "outputs": [],
   "source": [
    "# Build dataloader pipeline\n",
    "data = data.map(preprocess_twin)\n",
    "data = data.cache()\n",
    "data = data.shuffle(buffer_size=1024)"
   ]
  },
  {
   "cell_type": "code",
   "execution_count": 27,
   "metadata": {
    "id": "UGFsfEmQ9sAY"
   },
   "outputs": [],
   "source": [
    "# Training partition\n",
    "train_data = data.take(round(len(data)*.7))\n",
    "train_data = train_data.batch(16)\n",
    "train_data = train_data.prefetch(8)"
   ]
  },
  {
   "cell_type": "code",
   "execution_count": 28,
   "metadata": {
    "id": "oE1bEk7C9sAY"
   },
   "outputs": [],
   "source": [
    "# Testing partition\n",
    "test_data = data.skip(round(len(data)*.7))\n",
    "test_data = test_data.take(round(len(data)*.3))\n",
    "test_data = test_data.batch(16)\n",
    "test_data = test_data.prefetch(8)"
   ]
  },
  {
   "cell_type": "code",
   "execution_count": 29,
   "metadata": {},
   "outputs": [
    {
     "data": {
      "text/plain": [
       "<ShuffleDataset element_spec=(TensorSpec(shape=(100, 100, None), dtype=tf.float32, name=None), TensorSpec(shape=(100, 100, None), dtype=tf.float32, name=None), TensorSpec(shape=(), dtype=tf.float32, name=None))>"
      ]
     },
     "execution_count": 29,
     "metadata": {},
     "output_type": "execute_result"
    }
   ],
   "source": [
    "data"
   ]
  },
  {
   "cell_type": "code",
   "execution_count": 30,
   "metadata": {},
   "outputs": [],
   "source": [
    "train_samples = train_data.as_numpy_iterator()"
   ]
  },
  {
   "cell_type": "code",
   "execution_count": 31,
   "metadata": {},
   "outputs": [],
   "source": [
    "train_sample = train_samples.next()"
   ]
  },
  {
   "cell_type": "code",
   "execution_count": 32,
   "metadata": {},
   "outputs": [
    {
     "data": {
      "text/plain": [
       "16"
      ]
     },
     "execution_count": 32,
     "metadata": {},
     "output_type": "execute_result"
    }
   ],
   "source": [
    "len(train_sample[0])"
   ]
  },
  {
   "cell_type": "markdown",
   "metadata": {
    "id": "GXuOyjW79sAY"
   },
   "source": [
    "# 4. Model Engineering"
   ]
  },
  {
   "cell_type": "markdown",
   "metadata": {
    "id": "6lj8Tooa9sAZ"
   },
   "source": [
    "## 4.1 Build Embedding Layer"
   ]
  },
  {
   "cell_type": "code",
   "execution_count": 33,
   "metadata": {
    "id": "8gfRJUic9sAZ"
   },
   "outputs": [
    {
     "data": {
      "text/plain": [
       "<KerasTensor: shape=(None, 100, 100, 3) dtype=float32 (created by layer 'input_image')>"
      ]
     },
     "execution_count": 33,
     "metadata": {},
     "output_type": "execute_result"
    }
   ],
   "source": [
    "inp = Input(shape=(100,100, 3), name='input_image')\n",
    "inp"
   ]
  },
  {
   "cell_type": "code",
   "execution_count": 34,
   "metadata": {
    "id": "OJrziwJ09sAZ"
   },
   "outputs": [
    {
     "data": {
      "text/plain": [
       "<KerasTensor: shape=(None, 91, 91, 64) dtype=float32 (created by layer 'conv2d')>"
      ]
     },
     "execution_count": 34,
     "metadata": {},
     "output_type": "execute_result"
    }
   ],
   "source": [
    "c1 = Conv2D(64, (10,10), activation='relu')(inp)\n",
    "c1"
   ]
  },
  {
   "cell_type": "code",
   "execution_count": 35,
   "metadata": {
    "id": "cG7zVeY99sAZ"
   },
   "outputs": [
    {
     "data": {
      "text/plain": [
       "<KerasTensor: shape=(None, 46, 46, 64) dtype=float32 (created by layer 'max_pooling2d')>"
      ]
     },
     "execution_count": 35,
     "metadata": {},
     "output_type": "execute_result"
    }
   ],
   "source": [
    "m1 = MaxPooling2D(64, (2,2), padding='same')(c1)\n",
    "m1"
   ]
  },
  {
   "cell_type": "code",
   "execution_count": 36,
   "metadata": {
    "id": "J4Nl7Hvv9sAZ"
   },
   "outputs": [
    {
     "data": {
      "text/plain": [
       "<KerasTensor: shape=(None, 20, 20, 128) dtype=float32 (created by layer 'max_pooling2d_1')>"
      ]
     },
     "execution_count": 36,
     "metadata": {},
     "output_type": "execute_result"
    }
   ],
   "source": [
    "c2 = Conv2D(128, (7,7), activation='relu')(m1)\n",
    "m2 = MaxPooling2D(64, (2,2), padding='same')(c2)\n",
    "m2"
   ]
  },
  {
   "cell_type": "code",
   "execution_count": 37,
   "metadata": {
    "id": "Zfa1PKKr9sAZ"
   },
   "outputs": [],
   "source": [
    "c3 = Conv2D(128, (4,4), activation='relu')(m2)\n",
    "m3 = MaxPooling2D(64, (2,2), padding='same')(c3)"
   ]
  },
  {
   "cell_type": "code",
   "execution_count": 38,
   "metadata": {
    "id": "M5q77lGG9sAZ"
   },
   "outputs": [],
   "source": [
    "c4 = Conv2D(256, (4,4), activation='relu')(m3)\n",
    "f1 = Flatten()(c4)\n",
    "d1 = Dense(4096, activation='sigmoid')(f1)"
   ]
  },
  {
   "cell_type": "code",
   "execution_count": 39,
   "metadata": {},
   "outputs": [
    {
     "data": {
      "text/plain": [
       "<KerasTensor: shape=(None, 4096) dtype=float32 (created by layer 'dense')>"
      ]
     },
     "execution_count": 39,
     "metadata": {},
     "output_type": "execute_result"
    }
   ],
   "source": [
    "d1"
   ]
  },
  {
   "cell_type": "code",
   "execution_count": 40,
   "metadata": {
    "id": "hyHAFUyj9sAZ"
   },
   "outputs": [],
   "source": [
    "mod = Model(inputs=[inp], outputs=[d1], name='embedding')"
   ]
  },
  {
   "cell_type": "code",
   "execution_count": 41,
   "metadata": {
    "id": "JxA0PL1u9sAZ",
    "outputId": "73a31097-df8f-4f22-de26-872a8da24d97",
    "scrolled": true
   },
   "outputs": [
    {
     "name": "stdout",
     "output_type": "stream",
     "text": [
      "Model: \"embedding\"\n",
      "_________________________________________________________________\n",
      " Layer (type)                Output Shape              Param #   \n",
      "=================================================================\n",
      " input_image (InputLayer)    [(None, 100, 100, 3)]     0         \n",
      "                                                                 \n",
      " conv2d (Conv2D)             (None, 91, 91, 64)        19264     \n",
      "                                                                 \n",
      " max_pooling2d (MaxPooling2D  (None, 46, 46, 64)       0         \n",
      " )                                                               \n",
      "                                                                 \n",
      " conv2d_1 (Conv2D)           (None, 40, 40, 128)       401536    \n",
      "                                                                 \n",
      " max_pooling2d_1 (MaxPooling  (None, 20, 20, 128)      0         \n",
      " 2D)                                                             \n",
      "                                                                 \n",
      " conv2d_2 (Conv2D)           (None, 17, 17, 128)       262272    \n",
      "                                                                 \n",
      " max_pooling2d_2 (MaxPooling  (None, 9, 9, 128)        0         \n",
      " 2D)                                                             \n",
      "                                                                 \n",
      " conv2d_3 (Conv2D)           (None, 6, 6, 256)         524544    \n",
      "                                                                 \n",
      " flatten (Flatten)           (None, 9216)              0         \n",
      "                                                                 \n",
      " dense (Dense)               (None, 4096)              37752832  \n",
      "                                                                 \n",
      "=================================================================\n",
      "Total params: 38,960,448\n",
      "Trainable params: 38,960,448\n",
      "Non-trainable params: 0\n",
      "_________________________________________________________________\n"
     ]
    }
   ],
   "source": [
    "mod.summary()"
   ]
  },
  {
   "cell_type": "code",
   "execution_count": 42,
   "metadata": {
    "id": "bqdQnJND9sAZ"
   },
   "outputs": [],
   "source": [
    "def make_embedding(): \n",
    "    inp = Input(shape=(100,100,3), name='input_image')\n",
    "    \n",
    "    # First block\n",
    "    c1 = Conv2D(64, (10,10), activation='relu')(inp)\n",
    "    m1 = MaxPooling2D(64, (2,2), padding='same')(c1)\n",
    "    \n",
    "    # Second block\n",
    "    c2 = Conv2D(128, (7,7), activation='relu')(m1)\n",
    "    m2 = MaxPooling2D(64, (2,2), padding='same')(c2)\n",
    "    \n",
    "    # Third block \n",
    "    c3 = Conv2D(128, (4,4), activation='relu')(m2)\n",
    "    m3 = MaxPooling2D(64, (2,2), padding='same')(c3)\n",
    "    \n",
    "    # Final embedding block\n",
    "    c4 = Conv2D(256, (4,4), activation='relu')(m3)\n",
    "    f1 = Flatten()(c4)\n",
    "    d1 = Dense(4096, activation='sigmoid')(f1)\n",
    "    \n",
    "    \n",
    "    return Model(inputs=[inp], outputs=[d1], name='embedding')"
   ]
  },
  {
   "cell_type": "code",
   "execution_count": 43,
   "metadata": {},
   "outputs": [],
   "source": [
    "embedding = make_embedding()"
   ]
  },
  {
   "cell_type": "code",
   "execution_count": 44,
   "metadata": {},
   "outputs": [
    {
     "name": "stdout",
     "output_type": "stream",
     "text": [
      "Model: \"embedding\"\n",
      "_________________________________________________________________\n",
      " Layer (type)                Output Shape              Param #   \n",
      "=================================================================\n",
      " input_image (InputLayer)    [(None, 100, 100, 3)]     0         \n",
      "                                                                 \n",
      " conv2d_4 (Conv2D)           (None, 91, 91, 64)        19264     \n",
      "                                                                 \n",
      " max_pooling2d_3 (MaxPooling  (None, 46, 46, 64)       0         \n",
      " 2D)                                                             \n",
      "                                                                 \n",
      " conv2d_5 (Conv2D)           (None, 40, 40, 128)       401536    \n",
      "                                                                 \n",
      " max_pooling2d_4 (MaxPooling  (None, 20, 20, 128)      0         \n",
      " 2D)                                                             \n",
      "                                                                 \n",
      " conv2d_6 (Conv2D)           (None, 17, 17, 128)       262272    \n",
      "                                                                 \n",
      " max_pooling2d_5 (MaxPooling  (None, 9, 9, 128)        0         \n",
      " 2D)                                                             \n",
      "                                                                 \n",
      " conv2d_7 (Conv2D)           (None, 6, 6, 256)         524544    \n",
      "                                                                 \n",
      " flatten_1 (Flatten)         (None, 9216)              0         \n",
      "                                                                 \n",
      " dense_1 (Dense)             (None, 4096)              37752832  \n",
      "                                                                 \n",
      "=================================================================\n",
      "Total params: 38,960,448\n",
      "Trainable params: 38,960,448\n",
      "Non-trainable params: 0\n",
      "_________________________________________________________________\n"
     ]
    }
   ],
   "source": [
    "embedding.summary()"
   ]
  },
  {
   "cell_type": "markdown",
   "metadata": {
    "id": "WJJHF_gB9sAa"
   },
   "source": [
    "## 4.2 Build Distance Layer"
   ]
  },
  {
   "cell_type": "code",
   "execution_count": 45,
   "metadata": {
    "id": "BqRqeoX69sAa"
   },
   "outputs": [],
   "source": [
    "# Siamese L1 Distance class\n",
    "class L1Dist(Layer):\n",
    "    \n",
    "    # Init method - inheritance\n",
    "    def __init__(self, **kwargs):\n",
    "        super().__init__()\n",
    "       \n",
    "    # Magic happens here - similarity calculation\n",
    "    def call(self, input_embedding, validation_embedding):\n",
    "        return tf.math.abs(input_embedding - validation_embedding)"
   ]
  },
  {
   "cell_type": "code",
   "execution_count": 46,
   "metadata": {
    "id": "XsrJTzft9sAa"
   },
   "outputs": [],
   "source": [
    "l1 = L1Dist()"
   ]
  },
  {
   "cell_type": "markdown",
   "metadata": {
    "id": "Qg2xoGPD9sAa"
   },
   "source": [
    "## 4.3 Make Siamese Model"
   ]
  },
  {
   "cell_type": "code",
   "execution_count": 47,
   "metadata": {
    "id": "4890MKej9sAa"
   },
   "outputs": [],
   "source": [
    "input_image = Input(name='input_img', shape=(100,100,3))\n",
    "validation_image = Input(name='validation_img', shape=(100,100,3))"
   ]
  },
  {
   "cell_type": "code",
   "execution_count": 48,
   "metadata": {
    "id": "qxLyln5K9sAa"
   },
   "outputs": [],
   "source": [
    "inp_embedding = embedding(input_image)\n",
    "val_embedding = embedding(validation_image)"
   ]
  },
  {
   "cell_type": "code",
   "execution_count": 49,
   "metadata": {
    "id": "TR9dXFWL9sAa"
   },
   "outputs": [],
   "source": [
    "siamese_layer = L1Dist()"
   ]
  },
  {
   "cell_type": "code",
   "execution_count": 50,
   "metadata": {
    "id": "SsPYd4Hg9sAa"
   },
   "outputs": [],
   "source": [
    "distances = siamese_layer(inp_embedding, val_embedding)"
   ]
  },
  {
   "cell_type": "code",
   "execution_count": 51,
   "metadata": {
    "id": "rJtVvgod9sAa"
   },
   "outputs": [],
   "source": [
    "classifier = Dense(1, activation='sigmoid')(distances)"
   ]
  },
  {
   "cell_type": "code",
   "execution_count": 52,
   "metadata": {
    "id": "xKv3Fy-B9sAa",
    "outputId": "badda2ac-6006-43b5-e7ef-c9cf9fba530a"
   },
   "outputs": [
    {
     "data": {
      "text/plain": [
       "<KerasTensor: shape=(None, 1) dtype=float32 (created by layer 'dense_2')>"
      ]
     },
     "execution_count": 52,
     "metadata": {},
     "output_type": "execute_result"
    }
   ],
   "source": [
    "classifier"
   ]
  },
  {
   "cell_type": "code",
   "execution_count": 53,
   "metadata": {
    "id": "-hxzEdMh9sAb"
   },
   "outputs": [],
   "source": [
    "siamese_network = Model(inputs=[input_image, validation_image], outputs=classifier, name='SiameseNetwork')"
   ]
  },
  {
   "cell_type": "code",
   "execution_count": 54,
   "metadata": {
    "id": "PSJyN_GI9sAb",
    "outputId": "68bb3875-69a6-4bf2-8c2b-a1ef3921675e"
   },
   "outputs": [
    {
     "name": "stdout",
     "output_type": "stream",
     "text": [
      "Model: \"SiameseNetwork\"\n",
      "__________________________________________________________________________________________________\n",
      " Layer (type)                   Output Shape         Param #     Connected to                     \n",
      "==================================================================================================\n",
      " input_img (InputLayer)         [(None, 100, 100, 3  0           []                               \n",
      "                                )]                                                                \n",
      "                                                                                                  \n",
      " validation_img (InputLayer)    [(None, 100, 100, 3  0           []                               \n",
      "                                )]                                                                \n",
      "                                                                                                  \n",
      " embedding (Functional)         (None, 4096)         38960448    ['input_img[0][0]',              \n",
      "                                                                  'validation_img[0][0]']         \n",
      "                                                                                                  \n",
      " l1_dist_1 (L1Dist)             (None, 4096)         0           ['embedding[0][0]',              \n",
      "                                                                  'embedding[1][0]']              \n",
      "                                                                                                  \n",
      " dense_2 (Dense)                (None, 1)            4097        ['l1_dist_1[0][0]']              \n",
      "                                                                                                  \n",
      "==================================================================================================\n",
      "Total params: 38,964,545\n",
      "Trainable params: 38,964,545\n",
      "Non-trainable params: 0\n",
      "__________________________________________________________________________________________________\n"
     ]
    }
   ],
   "source": [
    "siamese_network.summary()"
   ]
  },
  {
   "cell_type": "code",
   "execution_count": 55,
   "metadata": {
    "id": "EOWpx5ow9sAb"
   },
   "outputs": [],
   "source": [
    "def make_siamese_model(): \n",
    "    \n",
    "    # Anchor image input in the network\n",
    "    input_image = Input(name='input_img', shape=(100,100,3))\n",
    "    \n",
    "    # Validation image in the network \n",
    "    validation_image = Input(name='validation_img', shape=(100,100,3))\n",
    "    \n",
    "    # Combine siamese distance components\n",
    "    siamese_layer = L1Dist()\n",
    "    siamese_layer._name = 'distance'\n",
    "    distances = siamese_layer(embedding(input_image), embedding(validation_image))\n",
    "    \n",
    "    # Classification layer \n",
    "    classifier = Dense(1, activation='sigmoid')(distances)\n",
    "    \n",
    "    return Model(inputs=[input_image, validation_image], outputs=classifier, name='SiameseNetwork')"
   ]
  },
  {
   "cell_type": "code",
   "execution_count": 56,
   "metadata": {
    "id": "CWxLSypq9sAb"
   },
   "outputs": [],
   "source": [
    "siamese_model = make_siamese_model()"
   ]
  },
  {
   "cell_type": "code",
   "execution_count": 57,
   "metadata": {
    "id": "zS_x6kUo9sAb",
    "outputId": "3adb8db5-33f9-4868-cbfe-c95ced1d3bf5",
    "tags": []
   },
   "outputs": [
    {
     "name": "stdout",
     "output_type": "stream",
     "text": [
      "Model: \"SiameseNetwork\"\n",
      "__________________________________________________________________________________________________\n",
      " Layer (type)                   Output Shape         Param #     Connected to                     \n",
      "==================================================================================================\n",
      " input_img (InputLayer)         [(None, 100, 100, 3  0           []                               \n",
      "                                )]                                                                \n",
      "                                                                                                  \n",
      " validation_img (InputLayer)    [(None, 100, 100, 3  0           []                               \n",
      "                                )]                                                                \n",
      "                                                                                                  \n",
      " embedding (Functional)         (None, 4096)         38960448    ['input_img[0][0]',              \n",
      "                                                                  'validation_img[0][0]']         \n",
      "                                                                                                  \n",
      " distance (L1Dist)              (None, 4096)         0           ['embedding[2][0]',              \n",
      "                                                                  'embedding[3][0]']              \n",
      "                                                                                                  \n",
      " dense_3 (Dense)                (None, 1)            4097        ['distance[0][0]']               \n",
      "                                                                                                  \n",
      "==================================================================================================\n",
      "Total params: 38,964,545\n",
      "Trainable params: 38,964,545\n",
      "Non-trainable params: 0\n",
      "__________________________________________________________________________________________________\n"
     ]
    }
   ],
   "source": [
    "siamese_model.summary()"
   ]
  },
  {
   "cell_type": "markdown",
   "metadata": {
    "id": "F1kXg0Ph9sAb"
   },
   "source": [
    "# 5. Training"
   ]
  },
  {
   "cell_type": "markdown",
   "metadata": {
    "id": "svd6iHJG9sAb"
   },
   "source": [
    "## 5.1 Setup Loss and Optimizer"
   ]
  },
  {
   "cell_type": "code",
   "execution_count": 58,
   "metadata": {
    "id": "jY5MUHQd9sAb"
   },
   "outputs": [],
   "source": [
    "binary_cross_loss = tf.losses.BinaryCrossentropy()"
   ]
  },
  {
   "cell_type": "code",
   "execution_count": 59,
   "metadata": {
    "id": "Lkmj6jOX9sAb"
   },
   "outputs": [],
   "source": [
    "opt = tf.keras.optimizers.Adam(1e-4) # 0.0001"
   ]
  },
  {
   "cell_type": "markdown",
   "metadata": {
    "id": "K3BmJTtD9sAc"
   },
   "source": [
    "## 5.2 Establish Checkpoints"
   ]
  },
  {
   "cell_type": "code",
   "execution_count": 60,
   "metadata": {
    "id": "pnXmceT89sAc"
   },
   "outputs": [],
   "source": [
    "checkpoint_dir = './training_checkpoints'\n",
    "checkpoint_prefix = os.path.join(checkpoint_dir, 'ckpt')\n",
    "checkpoint = tf.train.Checkpoint(opt=opt, siamese_model=siamese_model)"
   ]
  },
  {
   "cell_type": "markdown",
   "metadata": {
    "id": "jluH3UfR9sAc"
   },
   "source": [
    "## 5.3 Build Train Step Function"
   ]
  },
  {
   "cell_type": "code",
   "execution_count": 61,
   "metadata": {
    "id": "e-rZNEAn9sAc"
   },
   "outputs": [],
   "source": [
    "test_batch = train_data.as_numpy_iterator()"
   ]
  },
  {
   "cell_type": "code",
   "execution_count": 62,
   "metadata": {
    "id": "Pzq2pKNn9sAc"
   },
   "outputs": [],
   "source": [
    "batch_1 = test_batch.next()"
   ]
  },
  {
   "cell_type": "code",
   "execution_count": 63,
   "metadata": {
    "id": "32-oQwcY9sAc"
   },
   "outputs": [],
   "source": [
    "X = batch_1[:2]"
   ]
  },
  {
   "cell_type": "code",
   "execution_count": 64,
   "metadata": {
    "id": "CudurJGY9sAc"
   },
   "outputs": [],
   "source": [
    "y = batch_1[2]"
   ]
  },
  {
   "cell_type": "code",
   "execution_count": 65,
   "metadata": {
    "id": "fwkB9jeL9sAc",
    "outputId": "a744f0c2-3d1d-4bf1-b2ab-f9e0952d6b09"
   },
   "outputs": [
    {
     "data": {
      "text/plain": [
       "array([1., 1., 0., 0., 1., 0., 0., 0., 1., 1., 1., 1., 1., 0., 1., 1.],\n",
       "      dtype=float32)"
      ]
     },
     "execution_count": 65,
     "metadata": {},
     "output_type": "execute_result"
    }
   ],
   "source": [
    "y"
   ]
  },
  {
   "cell_type": "code",
   "execution_count": 66,
   "metadata": {
    "id": "r2YmtdcQ9sAc",
    "tags": []
   },
   "outputs": [],
   "source": [
    "@tf.function\n",
    "def train_step(batch):\n",
    "    \n",
    "    # Record all of our operations \n",
    "    with tf.GradientTape() as tape:     \n",
    "        # Get anchor and positive/negative image\n",
    "        X = batch[:2]\n",
    "        # Get label\n",
    "        y = batch[2]\n",
    "        \n",
    "        # Forward pass\n",
    "        yhat = siamese_model(X, training=True)\n",
    "        # Calculate loss\n",
    "        loss = binary_cross_loss(y, yhat)\n",
    "    print(loss)\n",
    "        \n",
    "    # Calculate gradients\n",
    "    grad = tape.gradient(loss, siamese_model.trainable_variables)\n",
    "    \n",
    "    # Calculate updated weights and apply to siamese model\n",
    "    opt.apply_gradients(zip(grad, siamese_model.trainable_variables))\n",
    "        \n",
    "    # Return loss\n",
    "    return loss"
   ]
  },
  {
   "cell_type": "markdown",
   "metadata": {
    "id": "srMM5scF9sAc"
   },
   "source": [
    "## 5.4 Build Training Loop"
   ]
  },
  {
   "cell_type": "code",
   "execution_count": 67,
   "metadata": {
    "id": "d0U59Ufu9sAd"
   },
   "outputs": [],
   "source": [
    "def train(data, EPOCHS):\n",
    "    # Loop through epochs\n",
    "    for epoch in range(1, EPOCHS+1):\n",
    "        print('\\n Epoch {}/{}'.format(epoch, EPOCHS))\n",
    "        progbar = tf.keras.utils.Progbar(len(train_data))\n",
    "        \n",
    "#         # Creating a metric object \n",
    "#         r = Recall()\n",
    "#         p = Precision()\n",
    "        \n",
    "        # Loop through each batch\n",
    "        for idx, batch in enumerate(train_data):\n",
    "            # Run train step here\n",
    "            train_step(batch)\n",
    "            progbar.update(idx+1)\n",
    "        \n",
    "        # Save checkpoints\n",
    "        if epoch % 10 == 0: \n",
    "            checkpoint.save(file_prefix=checkpoint_prefix)"
   ]
  },
  {
   "cell_type": "markdown",
   "metadata": {
    "id": "9cHW0SCO9sAd"
   },
   "source": [
    "## 5.5 Train the model"
   ]
  },
  {
   "cell_type": "code",
   "execution_count": 68,
   "metadata": {
    "id": "I8I2FU909sAd"
   },
   "outputs": [],
   "source": [
    "EPOCHS = 50"
   ]
  },
  {
   "cell_type": "code",
   "execution_count": 69,
   "metadata": {
    "id": "VTHUubEE9sAd",
    "outputId": "9325a899-8250-4b9d-b2ab-828079adebba",
    "scrolled": true,
    "tags": []
   },
   "outputs": [
    {
     "name": "stdout",
     "output_type": "stream",
     "text": [
      "\n",
      " Epoch 1/50\n",
      "Tensor(\"binary_crossentropy/weighted_loss/value:0\", shape=(), dtype=float32)\n",
      "Tensor(\"binary_crossentropy/weighted_loss/value:0\", shape=(), dtype=float32)\n",
      "61/62 [============================>.] - ETA: 0sTensor(\"binary_crossentropy/weighted_loss/value:0\", shape=(), dtype=float32)\n",
      "62/62 [==============================] - 70s 659ms/step\n",
      "\n",
      " Epoch 2/50\n",
      "62/62 [==============================] - 36s 590ms/step\n",
      "\n",
      " Epoch 3/50\n",
      "62/62 [==============================] - 36s 580ms/step\n",
      "\n",
      " Epoch 4/50\n",
      "62/62 [==============================] - 34s 561ms/step\n",
      "\n",
      " Epoch 5/50\n",
      "62/62 [==============================] - 34s 551ms/step\n",
      "\n",
      " Epoch 6/50\n",
      "62/62 [==============================] - 33s 533ms/step\n",
      "\n",
      " Epoch 7/50\n",
      "62/62 [==============================] - 32s 521ms/step\n",
      "\n",
      " Epoch 8/50\n",
      "62/62 [==============================] - 32s 525ms/step\n",
      "\n",
      " Epoch 9/50\n",
      "62/62 [==============================] - 32s 525ms/step\n",
      "\n",
      " Epoch 10/50\n",
      "62/62 [==============================] - 33s 532ms/step\n",
      "\n",
      " Epoch 11/50\n",
      "62/62 [==============================] - 33s 542ms/step\n",
      "\n",
      " Epoch 12/50\n",
      "62/62 [==============================] - 33s 542ms/step\n",
      "\n",
      " Epoch 13/50\n",
      "62/62 [==============================] - 33s 531ms/step\n",
      "\n",
      " Epoch 14/50\n",
      "62/62 [==============================] - 31s 507ms/step\n",
      "\n",
      " Epoch 15/50\n",
      "62/62 [==============================] - 30s 487ms/step\n",
      "\n",
      " Epoch 16/50\n",
      "62/62 [==============================] - 30s 493ms/step\n",
      "\n",
      " Epoch 17/50\n",
      "62/62 [==============================] - 30s 496ms/step\n",
      "\n",
      " Epoch 18/50\n",
      "62/62 [==============================] - 30s 493ms/step\n",
      "\n",
      " Epoch 19/50\n",
      "62/62 [==============================] - 30s 498ms/step\n",
      "\n",
      " Epoch 20/50\n",
      "62/62 [==============================] - 31s 500ms/step\n",
      "\n",
      " Epoch 21/50\n",
      "62/62 [==============================] - 31s 500ms/step\n",
      "\n",
      " Epoch 22/50\n",
      "62/62 [==============================] - 31s 499ms/step\n",
      "\n",
      " Epoch 23/50\n",
      "62/62 [==============================] - 30s 497ms/step\n",
      "\n",
      " Epoch 24/50\n",
      "62/62 [==============================] - 31s 499ms/step\n",
      "\n",
      " Epoch 25/50\n",
      "62/62 [==============================] - 30s 495ms/step\n",
      "\n",
      " Epoch 26/50\n",
      "62/62 [==============================] - 30s 493ms/step\n",
      "\n",
      " Epoch 27/50\n",
      "62/62 [==============================] - 31s 502ms/step\n",
      "\n",
      " Epoch 28/50\n",
      "62/62 [==============================] - 30s 497ms/step\n",
      "\n",
      " Epoch 29/50\n",
      "62/62 [==============================] - 32s 523ms/step\n",
      "\n",
      " Epoch 30/50\n",
      "62/62 [==============================] - 32s 516ms/step\n",
      "\n",
      " Epoch 31/50\n",
      "62/62 [==============================] - 32s 530ms/step\n",
      "\n",
      " Epoch 32/50\n",
      "62/62 [==============================] - 32s 529ms/step\n",
      "\n",
      " Epoch 33/50\n",
      "62/62 [==============================] - 31s 501ms/step\n",
      "\n",
      " Epoch 34/50\n",
      "62/62 [==============================] - 31s 502ms/step\n",
      "\n",
      " Epoch 35/50\n",
      "62/62 [==============================] - 31s 501ms/step\n",
      "\n",
      " Epoch 36/50\n",
      "62/62 [==============================] - 31s 500ms/step\n",
      "\n",
      " Epoch 37/50\n",
      "62/62 [==============================] - 93s 2s/step\n",
      "\n",
      " Epoch 38/50\n",
      "62/62 [==============================] - 112s 2s/step\n",
      "\n",
      " Epoch 39/50\n",
      "62/62 [==============================] - 25s 408ms/step\n",
      "\n",
      " Epoch 40/50\n",
      "62/62 [==============================] - 23s 374ms/step\n",
      "\n",
      " Epoch 41/50\n",
      "62/62 [==============================] - 23s 374ms/step\n",
      "\n",
      " Epoch 42/50\n",
      "62/62 [==============================] - 23s 373ms/step\n",
      "\n",
      " Epoch 43/50\n",
      "62/62 [==============================] - 23s 374ms/step\n",
      "\n",
      " Epoch 44/50\n",
      "62/62 [==============================] - 23s 375ms/step\n",
      "\n",
      " Epoch 45/50\n",
      "62/62 [==============================] - 23s 374ms/step\n",
      "\n",
      " Epoch 46/50\n",
      "62/62 [==============================] - 23s 375ms/step\n",
      "\n",
      " Epoch 47/50\n",
      "62/62 [==============================] - 23s 374ms/step\n",
      "\n",
      " Epoch 48/50\n",
      "62/62 [==============================] - 23s 374ms/step\n",
      "\n",
      " Epoch 49/50\n",
      "62/62 [==============================] - 23s 375ms/step\n",
      "\n",
      " Epoch 50/50\n",
      "62/62 [==============================] - 23s 374ms/step\n"
     ]
    }
   ],
   "source": [
    "train(train_data, EPOCHS)"
   ]
  },
  {
   "cell_type": "markdown",
   "metadata": {
    "id": "mY_trxPh9sAd",
    "tags": []
   },
   "source": [
    "# 6. Evaluate Model"
   ]
  },
  {
   "cell_type": "markdown",
   "metadata": {
    "id": "ZBIPgpnF9sAd"
   },
   "source": [
    "## 6.1 Import Metrics"
   ]
  },
  {
   "cell_type": "code",
   "execution_count": 70,
   "metadata": {
    "id": "QTkE37-C9sAd"
   },
   "outputs": [],
   "source": [
    "# Import metric calculations\n",
    "from tensorflow.keras.metrics import Precision, Recall"
   ]
  },
  {
   "cell_type": "markdown",
   "metadata": {
    "id": "S-iKHDhu9sAd"
   },
   "source": [
    "## 6.2 Make Predictions"
   ]
  },
  {
   "cell_type": "code",
   "execution_count": 71,
   "metadata": {
    "id": "31LqsDO-9sAd"
   },
   "outputs": [],
   "source": [
    "# Get a batch of test data\n",
    "test_input, test_val, y_true = test_data.as_numpy_iterator().next()"
   ]
  },
  {
   "cell_type": "code",
   "execution_count": 72,
   "metadata": {},
   "outputs": [
    {
     "name": "stdout",
     "output_type": "stream",
     "text": [
      "1/1 [==============================] - 1s 745ms/step\n"
     ]
    },
    {
     "data": {
      "text/plain": [
       "array([[1.0000000e+00],\n",
       "       [9.9999988e-01],\n",
       "       [9.9999821e-01],\n",
       "       [9.9998915e-01],\n",
       "       [8.9454028e-05],\n",
       "       [4.5588620e-18],\n",
       "       [9.9794585e-01],\n",
       "       [7.6537630e-09],\n",
       "       [9.4508419e-14],\n",
       "       [4.4959869e-15],\n",
       "       [1.7414790e-12],\n",
       "       [9.9536860e-01],\n",
       "       [9.9986327e-01],\n",
       "       [1.0000000e+00],\n",
       "       [9.9999654e-01],\n",
       "       [9.9999845e-01]], dtype=float32)"
      ]
     },
     "execution_count": 72,
     "metadata": {},
     "output_type": "execute_result"
    }
   ],
   "source": [
    "y_hat= siamese_model.predict([test_input, test_val])\n",
    "y_hat"
   ]
  },
  {
   "cell_type": "code",
   "execution_count": 73,
   "metadata": {
    "id": "KjiOIz4-9sAd",
    "outputId": "88b2c464-b835-4dc4-ed74-a7dbf655a515",
    "tags": []
   },
   "outputs": [
    {
     "data": {
      "text/plain": [
       "[1, 1, 1, 1, 0, 0, 1, 0, 0, 0, 0, 1, 1, 1, 1, 1]"
      ]
     },
     "execution_count": 73,
     "metadata": {},
     "output_type": "execute_result"
    }
   ],
   "source": [
    "# Post processing the results \n",
    "[1 if prediction > 0.5 else 0 for prediction in y_hat]"
   ]
  },
  {
   "cell_type": "code",
   "execution_count": 74,
   "metadata": {
    "id": "g8_3d0y89sAd",
    "outputId": "a33a5356-c185-4376-823b-b82c2c0df970",
    "tags": []
   },
   "outputs": [
    {
     "data": {
      "text/plain": [
       "array([1., 1., 1., 1., 0., 0., 1., 0., 0., 0., 0., 1., 1., 1., 1., 1.],\n",
       "      dtype=float32)"
      ]
     },
     "execution_count": 74,
     "metadata": {},
     "output_type": "execute_result"
    }
   ],
   "source": [
    "y_true"
   ]
  },
  {
   "cell_type": "markdown",
   "metadata": {
    "id": "jTUgb5yD9sAe"
   },
   "source": [
    "## 6.3 Calculate Metrics"
   ]
  },
  {
   "cell_type": "code",
   "execution_count": 75,
   "metadata": {
    "id": "uKA87S259sAe",
    "outputId": "d90f57ca-de49-41c8-c83f-c28dea98b9df"
   },
   "outputs": [
    {
     "data": {
      "text/plain": [
       "1.0"
      ]
     },
     "execution_count": 75,
     "metadata": {},
     "output_type": "execute_result"
    }
   ],
   "source": [
    "# Creating a metric object \n",
    "m = Recall()\n",
    "\n",
    "# Calculating the recall value \n",
    "m.update_state(y_true, y_hat)\n",
    "\n",
    "# Return Recall Result\n",
    "m.result().numpy()"
   ]
  },
  {
   "cell_type": "code",
   "execution_count": 76,
   "metadata": {
    "id": "x6GjlN-P9sAe",
    "outputId": "7feb1a88-68b2-4f30-a69e-b7ddc04cce1a"
   },
   "outputs": [
    {
     "data": {
      "text/plain": [
       "1.0"
      ]
     },
     "execution_count": 76,
     "metadata": {},
     "output_type": "execute_result"
    }
   ],
   "source": [
    "# Creating a metric object \n",
    "m = Precision()\n",
    "\n",
    "# Calculating the recall value \n",
    "m.update_state(y_true, y_hat)\n",
    "\n",
    "# Return Recall Result\n",
    "m.result().numpy()"
   ]
  },
  {
   "cell_type": "code",
   "execution_count": null,
   "metadata": {
    "id": "2c2fVK1e9sAe",
    "outputId": "e1c985ce-cee5-4fdb-d644-e625494f51c8"
   },
   "outputs": [],
   "source": [
    "# r = Recall()\n",
    "# p = Precision()\n",
    "\n",
    "# for test_input, test_val, y_true in test_data.as_numpy_iterator():\n",
    "#     yhat = siamese_model.predict([test_input, test_val])\n",
    "#     r.update_state(y_true, yhat)\n",
    "#     p.update_state(y_true,yhat) \n",
    "\n",
    "# print(r.result().numpy(), p.result().numpy())"
   ]
  },
  {
   "cell_type": "markdown",
   "metadata": {
    "id": "w3BrS6f49sAe"
   },
   "source": [
    "## 6.4 Viz Results"
   ]
  },
  {
   "cell_type": "code",
   "execution_count": null,
   "metadata": {
    "id": "dX1mvroy9sAe",
    "outputId": "838f8349-5239-42f4-bfde-4f65a1d1e54b"
   },
   "outputs": [],
   "source": [
    "# Set plot size \n",
    "plt.figure(figsize=(10,8))\n",
    "\n",
    "# Set first subplot\n",
    "plt.subplot(1,2,1)\n",
    "plt.imshow(test_input[5])\n",
    "\n",
    "# Set second subplot\n",
    "plt.subplot(1,2,2)\n",
    "plt.imshow(test_val[5])\n",
    "\n",
    "# Renders cleanly\n",
    "plt.show()"
   ]
  },
  {
   "cell_type": "markdown",
   "metadata": {
    "id": "sVeeUI2S9sAe"
   },
   "source": [
    "# 7. Save Model"
   ]
  },
  {
   "cell_type": "code",
   "execution_count": 78,
   "metadata": {
    "id": "I0eUhgVO9sAe"
   },
   "outputs": [
    {
     "name": "stdout",
     "output_type": "stream",
     "text": [
      "WARNING:tensorflow:Compiled the loaded model, but the compiled metrics have yet to be built. `model.compile_metrics` will be empty until you train or evaluate the model.\n"
     ]
    }
   ],
   "source": [
    "# Save weights \n",
    "siamese_model.save('C:/Users/Administrator/Desktop/faceid/app/siamesemodelv2.h5') "
   ]
  },
  {
   "cell_type": "code",
   "execution_count": 79,
   "metadata": {
    "id": "yeL1ljJv9sAe"
   },
   "outputs": [
    {
     "data": {
      "text/plain": [
       "__main__.L1Dist"
      ]
     },
     "execution_count": 79,
     "metadata": {},
     "output_type": "execute_result"
    }
   ],
   "source": [
    "L1Dist"
   ]
  },
  {
   "cell_type": "code",
   "execution_count": 80,
   "metadata": {
    "id": "nSiLb5Rn9sAe",
    "outputId": "dec045f4-8785-483f-ccf3-0f7d0b704b11"
   },
   "outputs": [
    {
     "name": "stdout",
     "output_type": "stream",
     "text": [
      "WARNING:tensorflow:No training configuration found in the save file, so the model was *not* compiled. Compile it manually.\n"
     ]
    }
   ],
   "source": [
    "# Reload model \n",
    "import os\n",
    "model_path = os.path.join('C:/Users/Administrator/Desktop/faceid/app', 'siamesemodelv2.h5')\n",
    "siamese_model = tf.keras.models.load_model(model_path, custom_objects={'L1Dist': L1Dist, 'BinaryCrossentropy': tf.losses.BinaryCrossentropy})"
   ]
  },
  {
   "cell_type": "code",
   "execution_count": 81,
   "metadata": {
    "id": "dRF4XJaR9sAe",
    "outputId": "e3f26253-c4b9-4024-f88c-f02b7d9ecf71"
   },
   "outputs": [
    {
     "name": "stdout",
     "output_type": "stream",
     "text": [
      "1/1 [==============================] - 0s 166ms/step\n"
     ]
    },
    {
     "data": {
      "text/plain": [
       "array([[1.0000000e+00],\n",
       "       [9.9999988e-01],\n",
       "       [9.9999821e-01],\n",
       "       [9.9998915e-01],\n",
       "       [8.9454028e-05],\n",
       "       [4.5588620e-18],\n",
       "       [9.9794585e-01],\n",
       "       [7.6537630e-09],\n",
       "       [9.4508419e-14],\n",
       "       [4.4959869e-15],\n",
       "       [1.7414790e-12],\n",
       "       [9.9536860e-01],\n",
       "       [9.9986327e-01],\n",
       "       [1.0000000e+00],\n",
       "       [9.9999654e-01],\n",
       "       [9.9999845e-01]], dtype=float32)"
      ]
     },
     "execution_count": 81,
     "metadata": {},
     "output_type": "execute_result"
    }
   ],
   "source": [
    "# Make predictions with reloaded model\n",
    "siamese_model.predict([test_input, test_val])"
   ]
  },
  {
   "cell_type": "code",
   "execution_count": 82,
   "metadata": {
    "id": "ujKOwhUX9sAf",
    "outputId": "8f7f4e1f-6c3b-4848-f20f-2bf7e925c680"
   },
   "outputs": [
    {
     "name": "stdout",
     "output_type": "stream",
     "text": [
      "Model: \"SiameseNetwork\"\n",
      "__________________________________________________________________________________________________\n",
      " Layer (type)                   Output Shape         Param #     Connected to                     \n",
      "==================================================================================================\n",
      " input_img (InputLayer)         [(None, 100, 100, 3  0           []                               \n",
      "                                )]                                                                \n",
      "                                                                                                  \n",
      " validation_img (InputLayer)    [(None, 100, 100, 3  0           []                               \n",
      "                                )]                                                                \n",
      "                                                                                                  \n",
      " embedding (Functional)         (None, 4096)         38960448    ['input_img[0][0]',              \n",
      "                                                                  'validation_img[0][0]']         \n",
      "                                                                                                  \n",
      " l1_dist_3 (L1Dist)             (None, 4096)         0           ['embedding[0][0]',              \n",
      "                                                                  'embedding[1][0]']              \n",
      "                                                                                                  \n",
      " dense_3 (Dense)                (None, 1)            4097        ['l1_dist_3[0][0]']              \n",
      "                                                                                                  \n",
      "==================================================================================================\n",
      "Total params: 38,964,545\n",
      "Trainable params: 38,964,545\n",
      "Non-trainable params: 0\n",
      "__________________________________________________________________________________________________\n"
     ]
    }
   ],
   "source": [
    "# View model summary\n",
    "siamese_model.summary()"
   ]
  },
  {
   "cell_type": "markdown",
   "metadata": {
    "id": "jh2jlwiT9sAf"
   },
   "source": [
    "# 8. Real Time Test"
   ]
  },
  {
   "cell_type": "markdown",
   "metadata": {
    "id": "Kx0h1lJK9sAf"
   },
   "source": [
    "## 8.1 Verification Function"
   ]
  },
  {
   "cell_type": "code",
   "execution_count": 83,
   "metadata": {
    "id": "JTOtu-Kd9sAf"
   },
   "outputs": [],
   "source": [
    "VERIFICATION_PATH = os.path.join('app','application_data', 'verification_images')\n",
    "INPUT_PATH=os.path.join('app','application_data', 'input_image')\n",
    "\n",
    "os.makedirs(VERIFICATION_PATH)\n",
    "os.makedirs(INPUT_PATH)"
   ]
  },
  {
   "cell_type": "code",
   "execution_count": 84,
   "metadata": {},
   "outputs": [
    {
     "name": "stdout",
     "output_type": "stream",
     "text": [
      "app\\application_data\\verification_images\n",
      "data\\positive\n"
     ]
    }
   ],
   "source": [
    "print(VERIFICATION_PATH)\n",
    "print(POS_PATH)"
   ]
  },
  {
   "cell_type": "code",
   "execution_count": 85,
   "metadata": {},
   "outputs": [],
   "source": [
    "# pick and move random 50 images from positive to verification_images folders\n",
    "import shutil\n",
    "\n",
    "NUM_IMAGES = 100 \n",
    "\n",
    "# Get a list of all image files in the POS_PATH directory\n",
    "image_files = [file for file in os.listdir(POS_PATH) if file.endswith('.jpg') or file.endswith('.png')]\n",
    "\n",
    "# Select 50 random images from the list\n",
    "random_images = random.sample(image_files, NUM_IMAGES)\n",
    "\n",
    "# Move the selected images to the VERIFICATION_PATH directory\n",
    "for image in random_images:\n",
    "    source = os.path.join(POS_PATH, image)\n",
    "    destination = os.path.join(VERIFICATION_PATH, image)\n",
    "    shutil.copy(source, destination)"
   ]
  },
  {
   "cell_type": "code",
   "execution_count": 86,
   "metadata": {},
   "outputs": [
    {
     "data": {
      "text/plain": [
       "['2304a0a4-1552-11ee-a2a9-58112281acc6.jpg',\n",
       " '2339b733-1552-11ee-9e7f-58112281acc6.jpg',\n",
       " '2501b57b-1552-11ee-86d7-58112281acc6.jpg',\n",
       " '25299220-1552-11ee-bc79-58112281acc6.jpg',\n",
       " '2546c2e5-1552-11ee-bad0-58112281acc6.jpg',\n",
       " '26cf5493-1552-11ee-beab-58112281acc6.jpg',\n",
       " '279e60bf-1552-11ee-9119-58112281acc6.jpg',\n",
       " '27f6c248-1552-11ee-a357-58112281acc6.jpg',\n",
       " '281b0ed7-1552-11ee-8fdd-58112281acc6.jpg',\n",
       " '29c6fc15-1552-11ee-bee6-58112281acc6.jpg',\n",
       " '2abc897c-1552-11ee-8a9e-58112281acc6.jpg',\n",
       " '2adb4ab5-1552-11ee-af32-58112281acc6.jpg',\n",
       " '2fbae17e-1552-11ee-8462-58112281acc6.jpg',\n",
       " '306f7b11-1552-11ee-822c-58112281acc6.jpg',\n",
       " '30ccb45d-1552-11ee-a49e-58112281acc6.jpg',\n",
       " '32355931-1552-11ee-af42-58112281acc6.jpg',\n",
       " '3255bfc0-1552-11ee-8351-58112281acc6.jpg',\n",
       " '33936514-1552-11ee-8504-58112281acc6.jpg',\n",
       " '34a6fd8d-1552-11ee-8c8d-58112281acc6.jpg',\n",
       " '35f8d3de-1552-11ee-b471-58112281acc6.jpg',\n",
       " '37e150d3-1552-11ee-b55a-58112281acc6.jpg',\n",
       " '37f6e273-1552-11ee-ac7d-58112281acc6.jpg',\n",
       " '388afbbf-1552-11ee-8d2f-58112281acc6.jpg',\n",
       " '39080d47-1552-11ee-ba98-58112281acc6.jpg',\n",
       " '393618bd-1552-11ee-a76f-58112281acc6.jpg',\n",
       " '39a1d430-1552-11ee-9386-58112281acc6.jpg',\n",
       " '3a857721-1552-11ee-a3a6-58112281acc6.jpg',\n",
       " '3af2665f-1552-11ee-a4e1-58112281acc6.jpg',\n",
       " '3ba0dfb6-1552-11ee-9619-58112281acc6.jpg',\n",
       " '3e28a942-1552-11ee-895d-58112281acc6.jpg',\n",
       " '3e570c8a-1552-11ee-9db0-58112281acc6.jpg',\n",
       " '3eea5806-1552-11ee-b369-58112281acc6.jpg',\n",
       " '40670665-1552-11ee-8c8c-58112281acc6.jpg',\n",
       " '4070bf65-1552-11ee-866a-58112281acc6.jpg',\n",
       " '4079db0f-1552-11ee-a3d9-58112281acc6.jpg',\n",
       " '4083a4c1-1552-11ee-9808-58112281acc6.jpg',\n",
       " '40de73d0-1552-11ee-8d7c-58112281acc6.jpg',\n",
       " '413f047a-1552-11ee-933a-58112281acc6.jpg',\n",
       " '418c8402-1552-11ee-ac37-58112281acc6.jpg',\n",
       " '41976857-1552-11ee-a452-58112281acc6.jpg',\n",
       " '41a153c0-1552-11ee-bd26-58112281acc6.jpg',\n",
       " '42631546-1552-11ee-b7fd-58112281acc6.jpg',\n",
       " '428587a3-1552-11ee-ba8c-58112281acc6.jpg',\n",
       " '42903486-1552-11ee-908c-58112281acc6.jpg',\n",
       " '42d53d0e-1552-11ee-b437-58112281acc6.jpg',\n",
       " '42f4fc27-1552-11ee-9a2c-58112281acc6.jpg',\n",
       " '44d0b014-1552-11ee-ac0b-58112281acc6.jpg',\n",
       " '44d9aa67-1552-11ee-827b-58112281acc6.jpg',\n",
       " '4562fef0-1552-11ee-b996-58112281acc6.jpg',\n",
       " '464a766c-1552-11ee-a7ee-58112281acc6.jpg',\n",
       " '47506082-1552-11ee-b20f-58112281acc6.jpg',\n",
       " '47e96f97-1552-11ee-a7a0-58112281acc6.jpg',\n",
       " '4b73b651-1552-11ee-a8a5-58112281acc6.jpg',\n",
       " '4b7d97f2-1552-11ee-8d38-58112281acc6.jpg',\n",
       " '4bda0c0f-1552-11ee-adb5-58112281acc6.jpg',\n",
       " '4be43b05-1552-11ee-8e51-58112281acc6.jpg',\n",
       " '4c95dfe1-1552-11ee-bdb4-58112281acc6.jpg',\n",
       " '4d428cdd-1552-11ee-811b-58112281acc6.jpg',\n",
       " '4d6d6bb0-1552-11ee-9127-58112281acc6.jpg',\n",
       " '4df5a8ce-1552-11ee-b18c-58112281acc6.jpg',\n",
       " '4e1c21c7-1552-11ee-849c-58112281acc6.jpg',\n",
       " '4e961bc9-1552-11ee-ae35-58112281acc6.jpg',\n",
       " '4ea0ff86-1552-11ee-a18e-58112281acc6.jpg',\n",
       " '4f55e305-1552-11ee-b464-58112281acc6.jpg',\n",
       " '4fdff4a0-1552-11ee-a19f-58112281acc6.jpg',\n",
       " '5024fcc0-1552-11ee-9426-58112281acc6.jpg',\n",
       " '503542d5-1552-11ee-9270-58112281acc6.jpg',\n",
       " '5140b5cc-1552-11ee-b70f-58112281acc6.jpg',\n",
       " '51f5469d-1552-11ee-b994-58112281acc6.jpg',\n",
       " '5383ab4a-1552-11ee-b3f1-58112281acc6.jpg',\n",
       " '539849a0-1552-11ee-ab10-58112281acc6.jpg',\n",
       " '539ea9bc-1552-11ee-a6ba-58112281acc6.jpg',\n",
       " '53b0d1fd-1552-11ee-bb6a-58112281acc6.jpg',\n",
       " '53db798f-1552-11ee-8e15-58112281acc6.jpg',\n",
       " '543c1c76-1552-11ee-a457-58112281acc6.jpg',\n",
       " '549165bd-1552-11ee-8184-58112281acc6.jpg',\n",
       " '55579bd0-1552-11ee-a995-58112281acc6.jpg',\n",
       " '561e3b19-1552-11ee-bd7e-58112281acc6.jpg',\n",
       " '56684900-1552-11ee-a051-58112281acc6.jpg',\n",
       " '56e60080-1552-11ee-b531-58112281acc6.jpg',\n",
       " '56f8a1f7-1552-11ee-97fc-58112281acc6.jpg',\n",
       " '57011351-1552-11ee-8458-58112281acc6.jpg',\n",
       " '57610957-1552-11ee-b4a3-58112281acc6.jpg',\n",
       " '57c88bd4-1552-11ee-8668-58112281acc6.jpg',\n",
       " '586ca1ad-1552-11ee-aad5-58112281acc6.jpg',\n",
       " '58c1493b-1552-11ee-bef5-58112281acc6.jpg',\n",
       " '59297e1a-1552-11ee-8e81-58112281acc6.jpg',\n",
       " '599d90b4-1552-11ee-98b0-58112281acc6.jpg',\n",
       " '5a184ea7-1552-11ee-b61c-58112281acc6.jpg',\n",
       " '5a71e2f8-1552-11ee-8a65-58112281acc6.jpg',\n",
       " '5b1d4ba5-1552-11ee-ba82-58112281acc6.jpg',\n",
       " '5b842222-1552-11ee-8ea7-58112281acc6.jpg',\n",
       " '5ba11e67-1552-11ee-b0a9-58112281acc6.jpg',\n",
       " '5bace7e2-1552-11ee-a8b8-58112281acc6.jpg',\n",
       " '5bb67c9b-1552-11ee-beae-58112281acc6.jpg',\n",
       " '5e8dde66-1552-11ee-bffc-58112281acc6.jpg',\n",
       " '5eb6f176-1552-11ee-a2b5-58112281acc6.jpg',\n",
       " '5fbe6a93-1552-11ee-a6b8-58112281acc6.jpg',\n",
       " '5fec2623-1552-11ee-8b54-58112281acc6.jpg',\n",
       " '60be2a6e-1552-11ee-9500-58112281acc6.jpg']"
      ]
     },
     "execution_count": 86,
     "metadata": {},
     "output_type": "execute_result"
    }
   ],
   "source": [
    "os.listdir(os.path.join('app','application_data', 'verification_images'))"
   ]
  },
  {
   "cell_type": "code",
   "execution_count": 87,
   "metadata": {},
   "outputs": [
    {
     "data": {
      "text/plain": [
       "'application_data\\\\input_image\\\\input_image.jpg'"
      ]
     },
     "execution_count": 87,
     "metadata": {},
     "output_type": "execute_result"
    }
   ],
   "source": [
    "os.path.join('application_data', 'input_image', 'input_image.jpg')"
   ]
  },
  {
   "cell_type": "code",
   "execution_count": 88,
   "metadata": {
    "id": "VlndTq8w9sAf"
   },
   "outputs": [],
   "source": [
    "def verify(model, detection_threshold, verification_threshold):\n",
    "    # Build results array\n",
    "    results = []\n",
    "    for image in os.listdir(os.path.join('app','application_data', 'verification_images')):\n",
    "        input_img = preprocess(os.path.join('app','application_data', 'input_image', 'input_image.jpg'))\n",
    "        validation_img = preprocess(os.path.join('app','application_data', 'verification_images', image))\n",
    "        \n",
    "        # Make Predictions \n",
    "        result = model.predict(list(np.expand_dims([input_img, validation_img], axis=1)))\n",
    "        results.append(result)\n",
    "    \n",
    "    # Detection Threshold: Metric above which a prediciton is considered positive \n",
    "    detection = np.sum(np.array(results) > detection_threshold)\n",
    "    \n",
    "    # Verification Threshold: Proportion of positive predictions / total positive samples \n",
    "    verification = detection / len(os.listdir(os.path.join('app','application_data', 'verification_images'))) \n",
    "    verified = verification > verification_threshold\n",
    "    \n",
    "    return results, verified"
   ]
  },
  {
   "cell_type": "markdown",
   "metadata": {
    "id": "bCjp4cXi9sAf"
   },
   "source": [
    "## 8.2 OpenCV Real Time Verification"
   ]
  },
  {
   "cell_type": "code",
   "execution_count": 89,
   "metadata": {
    "id": "ntVOj0Qb9sAf",
    "scrolled": true
   },
   "outputs": [],
   "source": [
    "import cv2\n",
    "import os\n",
    "\n",
    "# Load face detection cascade\n",
    "face_cascade = cv2.CascadeClassifier(cv2.data.haarcascades + 'haarcascade_frontalface_default.xml')\n",
    "\n",
    "# Establish a connection to the webcam\n",
    "cap = cv2.VideoCapture(0)\n",
    "\n",
    "while cap.isOpened(): \n",
    "    ret, frame = cap.read()\n",
    "   \n",
    "    cv2.imshow('Verification', frame)\n",
    "    \n",
    "    # Face detection\n",
    "    gray = cv2.cvtColor(frame, cv2.COLOR_BGR2GRAY)\n",
    "    faces = face_cascade.detectMultiScale(gray, 1.3, 5)\n",
    "    \n",
    "    # Cut down frame to 250x250px\n",
    "    for (x, y, w, h) in faces:\n",
    "        face_roi = frame[y:y+h, x:x+w]\n",
    "        resized_face = cv2.resize(face_roi, (250, 250))\n",
    "        cv2.imshow('Cropped Face', resized_face)\n",
    "        \n",
    "        # Verification trigger\n",
    "        if cv2.waitKey(10) & 0xFF == ord('v'):\n",
    "            # Save cropped face as an input image\n",
    "            cv2.imwrite(os.path.join('app', 'application_data', 'input_image', 'input_image.jpg'), resized_face)\n",
    "            \n",
    "            # Run verification\n",
    "            results, verified = verify(siamese_model, 0.5, 0.5)\n",
    "            print(verified)\n",
    "        \n",
    "    if cv2.waitKey(10) & 0xFF == ord('q'):\n",
    "        break\n",
    "        \n",
    "cap.release()\n",
    "cv2.destroyAllWindows()"
   ]
  },
  {
   "cell_type": "code",
   "execution_count": 112,
   "metadata": {
    "id": "sKO61K739sAf",
    "outputId": "8640c355-d24b-4780-ccd4-4767f43c4e99"
   },
   "outputs": [
    {
     "data": {
      "text/plain": [
       "91"
      ]
     },
     "execution_count": 112,
     "metadata": {},
     "output_type": "execute_result"
    }
   ],
   "source": [
    "np.sum(np.squeeze(results) > 0.9)"
   ]
  },
  {
   "cell_type": "code",
   "execution_count": 111,
   "metadata": {},
   "outputs": [
    {
     "data": {
      "text/plain": [
       "0.92"
      ]
     },
     "execution_count": 111,
     "metadata": {},
     "output_type": "execute_result"
    }
   ],
   "source": [
    "92/100"
   ]
  },
  {
   "cell_type": "code",
   "execution_count": null,
   "metadata": {
    "id": "OP8VhCzZ9sAf",
    "outputId": "573d9a6f-05ef-4d84-e234-7d84e5a2ac52"
   },
   "outputs": [],
   "source": [
    "results"
   ]
  }
 ],
 "metadata": {
  "colab": {
   "provenance": []
  },
  "kernelspec": {
   "display_name": "tf",
   "language": "python",
   "name": "tf"
  },
  "language_info": {
   "codemirror_mode": {
    "name": "ipython",
    "version": 3
   },
   "file_extension": ".py",
   "mimetype": "text/x-python",
   "name": "python",
   "nbconvert_exporter": "python",
   "pygments_lexer": "ipython3",
   "version": "3.9.16"
  }
 },
 "nbformat": 4,
 "nbformat_minor": 1
}
